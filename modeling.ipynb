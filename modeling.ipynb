{
 "cells": [
  {
   "cell_type": "code",
   "execution_count": 1,
   "metadata": {},
   "outputs": [],
   "source": [
    "from tensorflow.keras import layers\n",
    "from tensorflow import keras\n",
    "import tensorflow as tf\n",
    "\n",
    "from sklearn.model_selection import train_test_split\n",
    "from ast import literal_eval\n",
    "\n",
    "import matplotlib.pyplot as plt\n",
    "import pandas as pd\n",
    "import numpy as np\n",
    "\n",
    "import warnings\n",
    "warnings.filterwarnings(\"ignore\")"
   ]
  },
  {
   "cell_type": "code",
   "execution_count": 2,
   "metadata": {},
   "outputs": [
    {
     "data": {
      "text/html": [
       "<div>\n",
       "<style scoped>\n",
       "    .dataframe tbody tr th:only-of-type {\n",
       "        vertical-align: middle;\n",
       "    }\n",
       "\n",
       "    .dataframe tbody tr th {\n",
       "        vertical-align: top;\n",
       "    }\n",
       "\n",
       "    .dataframe thead th {\n",
       "        text-align: right;\n",
       "    }\n",
       "</style>\n",
       "<table border=\"1\" class=\"dataframe\">\n",
       "  <thead>\n",
       "    <tr style=\"text-align: right;\">\n",
       "      <th></th>\n",
       "      <th>id</th>\n",
       "      <th>title</th>\n",
       "      <th>tags</th>\n",
       "      <th>domain</th>\n",
       "      <th>description</th>\n",
       "    </tr>\n",
       "  </thead>\n",
       "  <tbody>\n",
       "    <tr>\n",
       "      <th>0</th>\n",
       "      <td>11-1011.00</td>\n",
       "      <td>chief executives</td>\n",
       "      <td>['structured', 'versus', 'unstructured', 'work']</td>\n",
       "      <td>incumbent</td>\n",
       "      <td>determine formulate policies provide overall d...</td>\n",
       "    </tr>\n",
       "    <tr>\n",
       "      <th>1</th>\n",
       "      <td>11-1011.00</td>\n",
       "      <td>chief executives</td>\n",
       "      <td>['initiative']</td>\n",
       "      <td>incumbent</td>\n",
       "      <td>determine formulate policies provide overall d...</td>\n",
       "    </tr>\n",
       "    <tr>\n",
       "      <th>2</th>\n",
       "      <td>11-1011.00</td>\n",
       "      <td>chief executives</td>\n",
       "      <td>['letters', 'memos']</td>\n",
       "      <td>incumbent</td>\n",
       "      <td>determine formulate policies provide overall d...</td>\n",
       "    </tr>\n",
       "    <tr>\n",
       "      <th>3</th>\n",
       "      <td>11-1011.00</td>\n",
       "      <td>chief executives</td>\n",
       "      <td>['time', 'pressure']</td>\n",
       "      <td>incumbent</td>\n",
       "      <td>determine formulate policies provide overall d...</td>\n",
       "    </tr>\n",
       "    <tr>\n",
       "      <th>4</th>\n",
       "      <td>11-1011.00</td>\n",
       "      <td>chief executives</td>\n",
       "      <td>['arm', 'hand', 'steadiness']</td>\n",
       "      <td>analyst</td>\n",
       "      <td>determine formulate policies provide overall d...</td>\n",
       "    </tr>\n",
       "  </tbody>\n",
       "</table>\n",
       "</div>"
      ],
      "text/plain": [
       "           id             title  \\\n",
       "0  11-1011.00  chief executives   \n",
       "1  11-1011.00  chief executives   \n",
       "2  11-1011.00  chief executives   \n",
       "3  11-1011.00  chief executives   \n",
       "4  11-1011.00  chief executives   \n",
       "\n",
       "                                               tags     domain  \\\n",
       "0  ['structured', 'versus', 'unstructured', 'work']  incumbent   \n",
       "1                                    ['initiative']  incumbent   \n",
       "2                              ['letters', 'memos']  incumbent   \n",
       "3                              ['time', 'pressure']  incumbent   \n",
       "4                     ['arm', 'hand', 'steadiness']    analyst   \n",
       "\n",
       "                                         description  \n",
       "0  determine formulate policies provide overall d...  \n",
       "1  determine formulate policies provide overall d...  \n",
       "2  determine formulate policies provide overall d...  \n",
       "3  determine formulate policies provide overall d...  \n",
       "4  determine formulate policies provide overall d...  "
      ]
     },
     "execution_count": 2,
     "metadata": {},
     "output_type": "execute_result"
    }
   ],
   "source": [
    "df = pd.read_csv(\"./output/preprocessed_data.csv\")\n",
    "df.head()"
   ]
  },
  {
   "cell_type": "code",
   "execution_count": 3,
   "metadata": {},
   "outputs": [
    {
     "data": {
      "text/html": [
       "<div>\n",
       "<style scoped>\n",
       "    .dataframe tbody tr th:only-of-type {\n",
       "        vertical-align: middle;\n",
       "    }\n",
       "\n",
       "    .dataframe tbody tr th {\n",
       "        vertical-align: top;\n",
       "    }\n",
       "\n",
       "    .dataframe thead th {\n",
       "        text-align: right;\n",
       "    }\n",
       "</style>\n",
       "<table border=\"1\" class=\"dataframe\">\n",
       "  <thead>\n",
       "    <tr style=\"text-align: right;\">\n",
       "      <th></th>\n",
       "      <th>titles</th>\n",
       "      <th>terms</th>\n",
       "      <th>summaries</th>\n",
       "    </tr>\n",
       "  </thead>\n",
       "  <tbody>\n",
       "    <tr>\n",
       "      <th>0</th>\n",
       "      <td>chief executives</td>\n",
       "      <td>['structured', 'versus', 'unstructured', 'work']</td>\n",
       "      <td>determine formulate policies provide overall d...</td>\n",
       "    </tr>\n",
       "    <tr>\n",
       "      <th>1</th>\n",
       "      <td>chief executives</td>\n",
       "      <td>['initiative']</td>\n",
       "      <td>determine formulate policies provide overall d...</td>\n",
       "    </tr>\n",
       "    <tr>\n",
       "      <th>2</th>\n",
       "      <td>chief executives</td>\n",
       "      <td>['letters', 'memos']</td>\n",
       "      <td>determine formulate policies provide overall d...</td>\n",
       "    </tr>\n",
       "    <tr>\n",
       "      <th>3</th>\n",
       "      <td>chief executives</td>\n",
       "      <td>['time', 'pressure']</td>\n",
       "      <td>determine formulate policies provide overall d...</td>\n",
       "    </tr>\n",
       "    <tr>\n",
       "      <th>4</th>\n",
       "      <td>chief executives</td>\n",
       "      <td>['arm', 'hand', 'steadiness']</td>\n",
       "      <td>determine formulate policies provide overall d...</td>\n",
       "    </tr>\n",
       "  </tbody>\n",
       "</table>\n",
       "</div>"
      ],
      "text/plain": [
       "             titles                                             terms  \\\n",
       "0  chief executives  ['structured', 'versus', 'unstructured', 'work']   \n",
       "1  chief executives                                    ['initiative']   \n",
       "2  chief executives                              ['letters', 'memos']   \n",
       "3  chief executives                              ['time', 'pressure']   \n",
       "4  chief executives                     ['arm', 'hand', 'steadiness']   \n",
       "\n",
       "                                           summaries  \n",
       "0  determine formulate policies provide overall d...  \n",
       "1  determine formulate policies provide overall d...  \n",
       "2  determine formulate policies provide overall d...  \n",
       "3  determine formulate policies provide overall d...  \n",
       "4  determine formulate policies provide overall d...  "
      ]
     },
     "execution_count": 3,
     "metadata": {},
     "output_type": "execute_result"
    }
   ],
   "source": [
    "arxiv_data = df.drop(['id','domain'], axis=1)\n",
    "arxiv_data.rename(columns = {'title':'titles', 'description':'summaries','tags':'terms'}, inplace=True)\n",
    "arxiv_data.head()"
   ]
  },
  {
   "cell_type": "code",
   "execution_count": 4,
   "metadata": {},
   "outputs": [
    {
     "name": "stdout",
     "output_type": "stream",
     "text": [
      "There are 38720 rows in the dataset.\n"
     ]
    }
   ],
   "source": [
    "print(f\"There are {len(arxiv_data)} rows in the dataset.\")"
   ]
  },
  {
   "cell_type": "code",
   "execution_count": 5,
   "metadata": {},
   "outputs": [
    {
     "name": "stdout",
     "output_type": "stream",
     "text": [
      "There are 37752 duplicate titles.\n"
     ]
    }
   ],
   "source": [
    "total_duplicate_titles = sum(arxiv_data[\"titles\"].duplicated())\n",
    "print(f\"There are {total_duplicate_titles} duplicate titles.\")"
   ]
  },
  {
   "cell_type": "code",
   "execution_count": 46,
   "metadata": {},
   "outputs": [
    {
     "name": "stdout",
     "output_type": "stream",
     "text": [
      "There are 968 rows in the deduplicated dataset.\n",
      "432\n",
      "588\n"
     ]
    }
   ],
   "source": [
    "arxiv_data = arxiv_data[~arxiv_data[\"titles\"].duplicated()]\n",
    "print(f\"There are {len(arxiv_data)} rows in the deduplicated dataset.\")\n",
    "\n",
    "# There are some terms with occurrence as low as 1.\n",
    "print(sum(arxiv_data[\"terms\"].value_counts() == 1))\n",
    "\n",
    "# How many unique terms?\n",
    "print(arxiv_data[\"terms\"].nunique())"
   ]
  },
  {
   "cell_type": "code",
   "execution_count": 42,
   "metadata": {},
   "outputs": [
    {
     "data": {
      "text/plain": [
       "(536, 3)"
      ]
     },
     "execution_count": 42,
     "metadata": {},
     "output_type": "execute_result"
    }
   ],
   "source": [
    "# Filtering the rare terms.\n",
    "arxiv_data_filtered = arxiv_data.groupby(\"terms\").filter(lambda x: len(x) > 1)\n",
    "arxiv_data_filtered.shape"
   ]
  },
  {
   "cell_type": "markdown",
   "metadata": {},
   "source": [
    "##### Convert the string labels to lists of strings"
   ]
  },
  {
   "cell_type": "code",
   "execution_count": 8,
   "metadata": {},
   "outputs": [
    {
     "data": {
      "text/plain": [
       "array([list(['structured', 'versus', 'unstructured', 'work']),\n",
       "       list(['importance', 'repeating', 'tasks']),\n",
       "       list(['concern', 'others']),\n",
       "       list(['management', 'financial', 'resources']),\n",
       "       list(['project', 'management', 'software'])], dtype=object)"
      ]
     },
     "execution_count": 8,
     "metadata": {},
     "output_type": "execute_result"
    }
   ],
   "source": [
    "arxiv_data_filtered[\"terms\"] = arxiv_data_filtered[\"terms\"].apply(\n",
    "    lambda x: literal_eval(x)\n",
    ")\n",
    "arxiv_data_filtered[\"terms\"].values[:5]"
   ]
  },
  {
   "cell_type": "markdown",
   "metadata": {},
   "source": [
    "#### Use stratified splits because of class imbalance"
   ]
  },
  {
   "cell_type": "code",
   "execution_count": 9,
   "metadata": {},
   "outputs": [
    {
     "name": "stdout",
     "output_type": "stream",
     "text": [
      "Number of rows in training set: 375\n",
      "Number of rows in validation set: 80\n",
      "Number of rows in test set: 81\n"
     ]
    }
   ],
   "source": [
    "test_split = 0.3\n",
    "\n",
    "# Initial train and test split.\n",
    "train_df, test_df = train_test_split(\n",
    "    arxiv_data_filtered,\n",
    "    test_size=test_split, stratify=arxiv_data_filtered[\"terms\"].values,\n",
    "    )\n",
    "\n",
    "# Splitting the test set further into validation\n",
    "# and new test sets.\n",
    "val_df = test_df.sample(frac=0.5)\n",
    "test_df.drop(val_df.index, inplace=True)\n",
    "\n",
    "print(f\"Number of rows in training set: {len(train_df)}\")\n",
    "print(f\"Number of rows in validation set: {len(val_df)}\")\n",
    "print(f\"Number of rows in test set: {len(test_df)}\")"
   ]
  },
  {
   "cell_type": "markdown",
   "metadata": {},
   "source": [
    "#### Multi-label binarization"
   ]
  },
  {
   "cell_type": "code",
   "execution_count": 10,
   "metadata": {},
   "outputs": [
    {
     "name": "stdout",
     "output_type": "stream",
     "text": [
      "Vocabulary:\n",
      "\n",
      "['[UNK]', 'software', 'time', 'spend', 'exposed', 'work', 'microsoft', 'equipment', 'control', 'others', 'flexibility', 'body', 'vision', 'speed', 'safety', 'management', 'comprehension', 'orientation', 'gross', 'computers', 'making', 'office', 'hearing', 'data', 'coordination', 'attention', 'word', 'suite', 'structured', 'stamina', 'resources', 'reasoning', 'monitoring', 'level', 'indoors', 'importance', 'environmentally', 'controlled', 'competition', 'written', 'versus', 'unstructured', 'strength', 'results', 'query', 'outdoors', 'operation', 'excel', 'equilibrium', 'contaminants', 'analysis', 'week', 'weather', 'wear', 'user', 'typical', 'thinking', 'stooping', 'speech', 'sitting', 'shoes', 'service', 'repetitive', 'proximity', 'protective', 'protection', 'processing', 'precision', 'physical', 'personal', 'oral', 'night', 'movement', 'motions', 'mathematical', 'material', 'listening', 'limb', 'lighting', 'life', 'lead', 'kneeling', 'jackets', 'interface', 'inadequate', 'hazardous', 'hats', 'hard', 'gloves', 'glasses', 'extremely', 'extent', 'duration', 'dexterity', 'desktop', 'design', 'decision', 'crouching', 'crawling', 'coordinate', 'concern', 'common', 'category', 'bright', 'base', 'active', 'workers', 'tasks', 'steadiness', 'static', 'speaking', 'spatial', 'sensitivity', 'schedules', 'repeating', 'regaining', 'recognition', 'persuasion', 'perception', 'pace', 'outlook', 'ordering', 'multilimb', 'memos', 'memorization', 'manual', 'letters', 'keeping', 'internet', 'instructing', 'information', 'impact', 'hand', 'exact', 'determined', 'detail', 'depth', 'decisions', 'conditions', 'company', 'co', 'browser', 'balance', 'auditory', 'arm', 'analytical', 'adaptability', 'accurate', 'youtube', 'walking', 'visualization', 'vehicle', 'using', 'tools', 'temperatures', 'telephone', 'technology', 'strategies', 'spreadsheet', 'space', 'solving', 'selection', 'scaffolds', 'running', 'responsible', 'responsibility', 'response', 'resource', 'reading', 'reaction', 'quality', 'problem', 'pressure', 'powerpoint', 'positions', 'poles', 'planning', 'places', 'peripheral', 'perceptual', 'outcomes', 'originality', 'open', 'objects', 'negotiation', 'near', 'machine', 'learning', 'laser', 'ladders', 'judgment', 'integrity', 'innovation', 'initiative', 'infections', 'independence', 'hot', 'high', 'health', 'hands', 'handle', 'frequency', 'finger', 'financial', 'feel', 'fax', 'far', 'error', 'erp', 'entry', 'enterprise', 'effort', 'document', 'disease', 'deductive', 'critical', 'cramped', 'controls', 'consequence', 'computer', 'complex', 'cold', 'climbing', 'cad', 'awkward', 'aided', 'achievement', 'writing', 'wrist', 'winding', 'whole', 'video', 'vibration', 'unpleasant', 'twisting', 'trunk', 'troubleshooting', 'track', 'tolerance', 'thread', 'telephones', 'systems', 'stress', 'stings', 'sql', 'special', 'selective', 'scientific', 'sap', 'purpose', 'public', 'project', 'presentation', 'players', 'people', 'operations', 'number', 'minor', 'map', 'mail', 'machines', 'leadership', 'laptop', 'language', 'inventory', 'intelligence', 'installation', 'industrial', 'ideas', 'hoists', 'hacksaw', 'fluency', 'facility', 'external', 'expression', 'explosive', 'electronic', 'dvd', 'disk', 'discovery', 'digital', 'delphi', 'defibrillators', 'deal', 'cuts', 'creation', 'cranes', 'cover', 'contact', 'clarity', 'business', 'burns', 'bites', 'bending', 'automated', 'angry', 'aed', 'access']\n"
     ]
    },
    {
     "name": "stderr",
     "output_type": "stream",
     "text": [
      "2022-04-29 11:28:12.138984: I tensorflow/core/platform/cpu_feature_guard.cc:151] This TensorFlow binary is optimized with oneAPI Deep Neural Network Library (oneDNN) to use the following CPU instructions in performance-critical operations:  AVX2 FMA\n",
      "To enable them in other operations, rebuild TensorFlow with the appropriate compiler flags.\n"
     ]
    }
   ],
   "source": [
    "terms = tf.ragged.constant(train_df[\"terms\"].values)\n",
    "lookup = tf.keras.layers.StringLookup(output_mode=\"multi_hot\")\n",
    "lookup.adapt(terms)\n",
    "vocab = lookup.get_vocabulary()\n",
    "\n",
    "\n",
    "def invert_multi_hot(encoded_labels):\n",
    "    \"\"\"Reverse a single multi-hot encoded label to a tuple of vocab terms.\"\"\"\n",
    "    hot_indices = np.argwhere(encoded_labels == 1.0)[..., 0]\n",
    "    return np.take(vocab, hot_indices)\n",
    "\n",
    "\n",
    "print(\"Vocabulary:\\n\")\n",
    "print(vocab)"
   ]
  },
  {
   "cell_type": "code",
   "execution_count": 11,
   "metadata": {},
   "outputs": [
    {
     "name": "stdout",
     "output_type": "stream",
     "text": [
      "Original label: ['instructing']\n",
      "Label-binarized representation: [[0. 0. 0. 0. 0. 0. 0. 0. 0. 0. 0. 0. 0. 0. 0. 0. 0. 0. 0. 0. 0. 0. 0. 0.\n",
      "  0. 0. 0. 0. 0. 0. 0. 0. 0. 0. 0. 0. 0. 0. 0. 0. 0. 0. 0. 0. 0. 0. 0. 0.\n",
      "  0. 0. 0. 0. 0. 0. 0. 0. 0. 0. 0. 0. 0. 0. 0. 0. 0. 0. 0. 0. 0. 0. 0. 0.\n",
      "  0. 0. 0. 0. 0. 0. 0. 0. 0. 0. 0. 0. 0. 0. 0. 0. 0. 0. 0. 0. 0. 0. 0. 0.\n",
      "  0. 0. 0. 0. 0. 0. 0. 0. 0. 0. 0. 0. 0. 0. 0. 0. 0. 0. 0. 0. 0. 0. 0. 0.\n",
      "  0. 0. 0. 0. 0. 0. 0. 0. 0. 1. 0. 0. 0. 0. 0. 0. 0. 0. 0. 0. 0. 0. 0. 0.\n",
      "  0. 0. 0. 0. 0. 0. 0. 0. 0. 0. 0. 0. 0. 0. 0. 0. 0. 0. 0. 0. 0. 0. 0. 0.\n",
      "  0. 0. 0. 0. 0. 0. 0. 0. 0. 0. 0. 0. 0. 0. 0. 0. 0. 0. 0. 0. 0. 0. 0. 0.\n",
      "  0. 0. 0. 0. 0. 0. 0. 0. 0. 0. 0. 0. 0. 0. 0. 0. 0. 0. 0. 0. 0. 0. 0. 0.\n",
      "  0. 0. 0. 0. 0. 0. 0. 0. 0. 0. 0. 0. 0. 0. 0. 0. 0. 0. 0. 0. 0. 0. 0. 0.\n",
      "  0. 0. 0. 0. 0. 0. 0. 0. 0. 0. 0. 0. 0. 0. 0. 0. 0. 0. 0. 0. 0. 0. 0. 0.\n",
      "  0. 0. 0. 0. 0. 0. 0. 0. 0. 0. 0. 0. 0. 0. 0. 0. 0. 0. 0. 0. 0. 0. 0. 0.\n",
      "  0. 0. 0. 0. 0. 0. 0. 0. 0. 0.]]\n"
     ]
    }
   ],
   "source": [
    "sample_label = train_df[\"terms\"].iloc[0]\n",
    "print(f\"Original label: {sample_label}\")\n",
    "\n",
    "label_binarized = lookup([sample_label])\n",
    "print(f\"Label-binarized representation: {label_binarized}\")"
   ]
  },
  {
   "cell_type": "markdown",
   "metadata": {},
   "source": [
    "##### Data preprocessing of Descriptions"
   ]
  },
  {
   "cell_type": "code",
   "execution_count": 12,
   "metadata": {},
   "outputs": [
    {
     "data": {
      "text/plain": [
       "count    375.000000\n",
       "mean      20.216000\n",
       "std        9.893214\n",
       "min        4.000000\n",
       "25%       12.500000\n",
       "50%       18.000000\n",
       "75%       26.000000\n",
       "max       61.000000\n",
       "Name: summaries, dtype: float64"
      ]
     },
     "execution_count": 12,
     "metadata": {},
     "output_type": "execute_result"
    }
   ],
   "source": [
    "train_df[\"summaries\"].apply(lambda x: len(x.split(\" \"))).describe()"
   ]
  },
  {
   "cell_type": "code",
   "execution_count": 13,
   "metadata": {},
   "outputs": [],
   "source": [
    "max_seqlen = 150\n",
    "batch_size = 128\n",
    "padding_token = \"<pad>\"\n",
    "auto = tf.data.AUTOTUNE\n",
    "\n",
    "\n",
    "def make_dataset(dataframe, is_train=True):\n",
    "    labels = tf.ragged.constant(dataframe[\"terms\"].values)\n",
    "    label_binarized = lookup(labels).numpy()\n",
    "    dataset = tf.data.Dataset.from_tensor_slices(\n",
    "        (dataframe[\"summaries\"].values, label_binarized)\n",
    "    )\n",
    "    dataset = dataset.shuffle(batch_size * 10) if is_train else dataset\n",
    "    return dataset.batch(batch_size)"
   ]
  },
  {
   "cell_type": "code",
   "execution_count": 14,
   "metadata": {},
   "outputs": [],
   "source": [
    "train_dataset = make_dataset(train_df, is_train=True)\n",
    "validation_dataset = make_dataset(val_df, is_train=False)\n",
    "test_dataset = make_dataset(test_df, is_train=False)"
   ]
  },
  {
   "cell_type": "code",
   "execution_count": 15,
   "metadata": {},
   "outputs": [
    {
     "name": "stdout",
     "output_type": "stream",
     "text": [
      "Abstract: b'collect dump refuse recyclable materials containers truck may drive truck'\n",
      "Label(s): ['thinking' 'critical']\n",
      " \n",
      "Abstract: b'supervise coordinate activities slot department workers provide service patrons handle settle complaints players verify pay jackpots reset slot machines payoffs make repairs adjustments slot machines recommend removal slot machines repair report hazards enforce safety rules'\n",
      "Label(s): ['software' 'management' 'project']\n",
      " \n",
      "Abstract: b'paint walls equipment buildings bridges structural surfaces using brushes rollers spray guns may remove old paint prepare surface prior painting may mix colors oils obtain desired color consistency'\n",
      "Label(s): ['memos' 'letters']\n",
      " \n",
      "Abstract: b'operate one variety office machines photocopying photographic duplicating machines office machines'\n",
      "Label(s): ['software' 'mail' 'electronic']\n",
      " \n",
      "Abstract: b'diagnose treat help prevent injuries occur sporting events athletic training physical activities'\n",
      "Label(s): ['time' 'spend' 'stooping' 'kneeling' 'crouching' 'crawling']\n",
      " \n"
     ]
    }
   ],
   "source": [
    "text_batch, label_batch = next(iter(train_dataset))\n",
    "\n",
    "for i, text in enumerate(text_batch[:5]):\n",
    "    label = label_batch[i].numpy()[None, ...]\n",
    "    print(f\"Abstract: {text}\")\n",
    "    print(f\"Label(s): {invert_multi_hot(label[0])}\")\n",
    "    print(\" \")"
   ]
  },
  {
   "cell_type": "code",
   "execution_count": 16,
   "metadata": {},
   "outputs": [
    {
     "name": "stdout",
     "output_type": "stream",
     "text": [
      "2707\n"
     ]
    }
   ],
   "source": [
    "# Source: https://stackoverflow.com/a/18937309/7636462\n",
    "vocabulary = set()\n",
    "train_df[\"summaries\"].str.lower().str.split().apply(vocabulary.update)\n",
    "vocabulary_size = len(vocabulary)\n",
    "print(vocabulary_size)"
   ]
  },
  {
   "cell_type": "code",
   "execution_count": 17,
   "metadata": {},
   "outputs": [],
   "source": [
    "text_vectorizer = layers.TextVectorization(\n",
    "    max_tokens=vocabulary_size, ngrams=2, output_mode=\"tf_idf\"\n",
    ")\n",
    "\n",
    "# `TextVectorization` layer needs to be adapted as per the vocabulary from our\n",
    "# training set.\n",
    "with tf.device(\"/CPU:0\"):\n",
    "    text_vectorizer.adapt(train_dataset.map(lambda text, label: text))\n",
    "\n",
    "train_dataset = train_dataset.map(\n",
    "    lambda text, label: (text_vectorizer(text), label), num_parallel_calls=auto\n",
    ").prefetch(auto)\n",
    "validation_dataset = validation_dataset.map(\n",
    "    lambda text, label: (text_vectorizer(text), label), num_parallel_calls=auto\n",
    ").prefetch(auto)\n",
    "test_dataset = test_dataset.map(\n",
    "    lambda text, label: (text_vectorizer(text), label), num_parallel_calls=auto\n",
    ").prefetch(auto)"
   ]
  },
  {
   "cell_type": "code",
   "execution_count": 18,
   "metadata": {},
   "outputs": [],
   "source": [
    "def make_model():\n",
    "    shallow_mlp_model = keras.Sequential(\n",
    "        [\n",
    "            layers.Dense(512, activation=\"relu\"),\n",
    "            layers.Dense(256, activation=\"relu\"),\n",
    "            layers.Dense(lookup.vocabulary_size(), activation=\"sigmoid\"),\n",
    "        ]  # More on why \"sigmoid\" has been used here in a moment.\n",
    "    )\n",
    "    return shallow_mlp_model"
   ]
  },
  {
   "cell_type": "code",
   "execution_count": 19,
   "metadata": {},
   "outputs": [
    {
     "name": "stdout",
     "output_type": "stream",
     "text": [
      "Epoch 1/20\n",
      "3/3 [==============================] - 1s 93ms/step - loss: 0.7400 - categorical_accuracy: 0.0000e+00 - val_loss: 0.4445 - val_categorical_accuracy: 0.0000e+00\n",
      "Epoch 2/20\n",
      "3/3 [==============================] - 0s 40ms/step - loss: 0.3877 - categorical_accuracy: 0.0027 - val_loss: 0.2198 - val_categorical_accuracy: 0.0000e+00\n",
      "Epoch 3/20\n",
      "3/3 [==============================] - 0s 40ms/step - loss: 0.1994 - categorical_accuracy: 0.0000e+00 - val_loss: 0.1109 - val_categorical_accuracy: 0.0000e+00\n",
      "Epoch 4/20\n",
      "3/3 [==============================] - 0s 42ms/step - loss: 0.1044 - categorical_accuracy: 0.0107 - val_loss: 0.0962 - val_categorical_accuracy: 0.0375\n",
      "Epoch 5/20\n",
      "3/3 [==============================] - 0s 44ms/step - loss: 0.0843 - categorical_accuracy: 0.0373 - val_loss: 0.1058 - val_categorical_accuracy: 0.0500\n",
      "Epoch 6/20\n",
      "3/3 [==============================] - 0s 41ms/step - loss: 0.0852 - categorical_accuracy: 0.0693 - val_loss: 0.1111 - val_categorical_accuracy: 0.0500\n",
      "Epoch 7/20\n",
      "3/3 [==============================] - 0s 45ms/step - loss: 0.0843 - categorical_accuracy: 0.0720 - val_loss: 0.1083 - val_categorical_accuracy: 0.0500\n",
      "Epoch 8/20\n",
      "3/3 [==============================] - 0s 55ms/step - loss: 0.0785 - categorical_accuracy: 0.1067 - val_loss: 0.1013 - val_categorical_accuracy: 0.0750\n",
      "Epoch 9/20\n",
      "3/3 [==============================] - 0s 49ms/step - loss: 0.0716 - categorical_accuracy: 0.1067 - val_loss: 0.0942 - val_categorical_accuracy: 0.0750\n",
      "Epoch 10/20\n",
      "3/3 [==============================] - 0s 54ms/step - loss: 0.0650 - categorical_accuracy: 0.1093 - val_loss: 0.0885 - val_categorical_accuracy: 0.0875\n",
      "Epoch 11/20\n",
      "3/3 [==============================] - 0s 52ms/step - loss: 0.0595 - categorical_accuracy: 0.2053 - val_loss: 0.0847 - val_categorical_accuracy: 0.0250\n",
      "Epoch 12/20\n",
      "3/3 [==============================] - 0s 48ms/step - loss: 0.0550 - categorical_accuracy: 0.2693 - val_loss: 0.0819 - val_categorical_accuracy: 0.0375\n",
      "Epoch 13/20\n",
      "3/3 [==============================] - 0s 43ms/step - loss: 0.0507 - categorical_accuracy: 0.3280 - val_loss: 0.0795 - val_categorical_accuracy: 0.0500\n",
      "Epoch 14/20\n",
      "3/3 [==============================] - 0s 37ms/step - loss: 0.0467 - categorical_accuracy: 0.3707 - val_loss: 0.0777 - val_categorical_accuracy: 0.0500\n",
      "Epoch 15/20\n",
      "3/3 [==============================] - 0s 38ms/step - loss: 0.0430 - categorical_accuracy: 0.3973 - val_loss: 0.0762 - val_categorical_accuracy: 0.1000\n",
      "Epoch 16/20\n",
      "3/3 [==============================] - 0s 39ms/step - loss: 0.0395 - categorical_accuracy: 0.3947 - val_loss: 0.0751 - val_categorical_accuracy: 0.1250\n",
      "Epoch 17/20\n",
      "3/3 [==============================] - 0s 38ms/step - loss: 0.0363 - categorical_accuracy: 0.4453 - val_loss: 0.0740 - val_categorical_accuracy: 0.1125\n",
      "Epoch 18/20\n",
      "3/3 [==============================] - 0s 37ms/step - loss: 0.0332 - categorical_accuracy: 0.4880 - val_loss: 0.0731 - val_categorical_accuracy: 0.1125\n",
      "Epoch 19/20\n",
      "3/3 [==============================] - 0s 39ms/step - loss: 0.0303 - categorical_accuracy: 0.5227 - val_loss: 0.0726 - val_categorical_accuracy: 0.1250\n",
      "Epoch 20/20\n",
      "3/3 [==============================] - 0s 44ms/step - loss: 0.0275 - categorical_accuracy: 0.5627 - val_loss: 0.0723 - val_categorical_accuracy: 0.1375\n"
     ]
    },
    {
     "data": {
      "image/png": "[encoded data removed]",
      "text/plain": [
       "<Figure size 432x288 with 1 Axes>"
      ]
     },
     "metadata": {
      "needs_background": "light"
     },
     "output_type": "display_data"
    },
    {
     "data": {
      "image/png": "[encoded data removed]",
      "text/plain": [
       "<Figure size 432x288 with 1 Axes>"
      ]
     },
     "metadata": {
      "needs_background": "light"
     },
     "output_type": "display_data"
    }
   ],
   "source": [
    "epochs = 20\n",
    "\n",
    "shallow_mlp_model = make_model()\n",
    "shallow_mlp_model.compile(\n",
    "    loss=\"binary_crossentropy\", optimizer=\"adam\", metrics=[\"categorical_accuracy\"]\n",
    ")\n",
    "\n",
    "history = shallow_mlp_model.fit(\n",
    "    train_dataset, validation_data=validation_dataset, epochs=epochs\n",
    ")\n",
    "\n",
    "\n",
    "def plot_result(item):\n",
    "    plt.plot(history.history[item], label=item)\n",
    "    plt.plot(history.history[\"val_\" + item], label=\"val_\" + item)\n",
    "    plt.xlabel(\"Epochs\")\n",
    "    plt.ylabel(item)\n",
    "    plt.title(\"Train and Validation {} Over Epochs\".format(item), fontsize=14)\n",
    "    plt.legend()\n",
    "    plt.grid()\n",
    "    plt.show()\n",
    "\n",
    "\n",
    "plot_result(\"loss\")\n",
    "plot_result(\"categorical_accuracy\")"
   ]
  },
  {
   "cell_type": "code",
   "execution_count": 22,
   "metadata": {},
   "outputs": [
    {
     "name": "stdout",
     "output_type": "stream",
     "text": [
      "1/1 [==============================] - 0s 84ms/step - loss: 0.0737 - categorical_accuracy: 0.0741\n",
      "Categorical accuracy on the test set: 0.74%.\n"
     ]
    }
   ],
   "source": [
    "_, categorical_acc = shallow_mlp_model.evaluate(test_dataset)\n",
    "print(f\"Categorical accuracy on the test set: {round(categorical_acc *10, 2)}%.\")"
   ]
  },
  {
   "cell_type": "code",
   "execution_count": 47,
   "metadata": {},
   "outputs": [
    {
     "name": "stdout",
     "output_type": "stream",
     "text": [
      "Abstract: b'set operate variety drills remove underground oil gas remove core samples testing oil gas exploration'\n",
      "Label(s): ['exposed' 'equipment' 'hazardous']\n",
      "Predicted Label(s): (spend, time, orientation)\n",
      " \n",
      "Abstract: b'verify maintain records incoming outgoing shipments prepare items shipment duties include assembling addressing stamping shipping merchandise material receiving unpacking verifying recording incoming merchandise material arranging transportation products'\n",
      "Label(s): ['thinking' 'critical']\n",
      "Predicted Label(s): (software, exposed, work)\n",
      " \n",
      "Abstract: b'attend live farm ranch aquacultural animals may include cattle sheep swine goats horses equines poultry finfish shellfish bees attend animals produced animal products meat fur skins feathers eggs milk honey duties may include feeding watering herding grazing castrating branding de beaking weighing catching loading animals may maintain records animals examine animals detect diseases injuries assist birth deliveries administer medications vaccinations insecticides appropriate may clean maintain animal housing areas includes workers shear wool sheep collect eggs hatcheries'\n",
      "Label(s): ['monitoring' 'operation']\n",
      "Predicted Label(s): (software, time, work)\n",
      " \n",
      "Abstract: b'directly supervise coordinate activities agricultural crop horticultural workers'\n",
      "Label(s): ['stamina']\n",
      "Predicted Label(s): (exposed, computers, reasoning)\n",
      " \n",
      "Abstract: b'make exact measurements determine property boundaries provide data relevant shape contour gravitation location elevation dimension land land features near earth surface engineering mapmaking mining land evaluation construction purposes'\n",
      "Label(s): ['speaking' 'public']\n",
      "Predicted Label(s): (time, software, spend)\n",
      " \n"
     ]
    }
   ],
   "source": [
    "# Create a model for inference.\n",
    "model_for_inference = keras.Sequential([text_vectorizer, shallow_mlp_model])\n",
    "\n",
    "# Create a small dataset just for demoing inference.\n",
    "inference_dataset = make_dataset(test_df.sample(50), is_train=False)\n",
    "text_batch, label_batch = next(iter(inference_dataset))\n",
    "predicted_probabilities = model_for_inference.predict(text_batch)\n",
    "\n",
    "# Perform inference.\n",
    "for i, text in enumerate(text_batch[:5]):\n",
    "    label = label_batch[i].numpy()[None, ...]\n",
    "    print(f\"Abstract: {text}\")\n",
    "    print(f\"Label(s): {invert_multi_hot(label[0])}\")\n",
    "    predicted_proba = [proba for proba in predicted_probabilities[i]]\n",
    "    top_3_labels = [\n",
    "        x\n",
    "        for _, x in sorted(\n",
    "            zip(predicted_probabilities[i], lookup.get_vocabulary()),\n",
    "            key=lambda pair: pair[0],\n",
    "            reverse=True,\n",
    "        )\n",
    "    ][:3]\n",
    "    print(f\"Predicted Label(s): ({', '.join([label for label in top_3_labels])})\")\n",
    "    print(\" \")"
   ]
  }
 ],
 "metadata": {
  "interpreter": {
   "hash": "40d3a090f54c6569ab1632332b64b2c03c39dcf918b08424e98f38b5ae0af88f"
  },
  "kernelspec": {
   "display_name": "Python 3.9.7 ('base')",
   "language": "python",
   "name": "python3"
  },
  "language_info": {
   "codemirror_mode": {
    "name": "ipython",
    "version": 3
   },
   "file_extension": ".py",
   "mimetype": "text/x-python",
   "name": "python",
   "nbconvert_exporter": "python",
   "pygments_lexer": "ipython3",
   "version": "3.9.7"
  },
  "orig_nbformat": 4
 },
 "nbformat": 4,
 "nbformat_minor": 2
}
